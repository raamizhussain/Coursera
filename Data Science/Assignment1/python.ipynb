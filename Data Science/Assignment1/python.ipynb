{
 "cells": [
  {
   "cell_type": "markdown",
   "id": "3d85e6dd-0266-4fb7-aa5c-d345db7bff69",
   "metadata": {},
   "source": [
    "# Data Science Tools Assignment"
   ]
  },
  {
   "cell_type": "markdown",
   "id": "5dfdb976-e273-4d69-8933-d3c28a00adbf",
   "metadata": {},
   "source": [
    "## Introduction\n",
    "\n",
    "Introduction markdown cell"
   ]
  },
  {
   "cell_type": "markdown",
   "id": "7b1f942d-cacb-4f89-9824-3150e442fd08",
   "metadata": {},
   "source": [
    "## Introduction\n",
    "\n",
    "In this notebook, we will explore various tools and languages used in the field of Data Science. We'll also practice some basic arithmetic operations using Python code.\n"
   ]
  },
  {
   "cell_type": "markdown",
   "id": "3f90760f-269b-476b-8144-2d69d6d85e36",
   "metadata": {},
   "source": [
    "## Common Libraries Used by Data Scientists\n",
    "\n",
    "Some commonly used libraries by Data Scientists include:\n",
    "- Pandas\n",
    "- NumPy\n",
    "- Scikit-learn\n",
    "- TensorFlow\n",
    "- Matplotlib\n"
   ]
  },
  {
   "cell_type": "markdown",
   "id": "9d9ac86a-a909-4245-b529-4a39b55130f5",
   "metadata": {},
   "source": [
    "## Data Science Tools\n",
    "\n",
    "| Tool             | Category       |\n",
    "|------------------|----------------|\n",
    "| Jupyter Notebook | IDE            |\n",
    "| RStudio          | IDE            |\n",
    "| Apache Spark     | Big Data Tool  |\n",
    "| TensorFlow       | Deep Learning  |\n",
    "| RapidMiner       | Data Mining    |\n"
   ]
  },
  {
   "cell_type": "markdown",
   "id": "a43e8f9f-d6b5-4670-be1c-f4429e5be8e1",
   "metadata": {},
   "source": [
    "## Arithmetic Expression Examples\n",
    "\n",
    "Below are examples of simple arithmetic expressions using Python.\n"
   ]
  },
  {
   "cell_type": "code",
   "execution_count": 4,
   "id": "da09fb25-ba78-4962-b4ef-6ac17a21ecd9",
   "metadata": {},
   "outputs": [
    {
     "data": {
      "text/plain": [
       "17"
      ]
     },
     "execution_count": 4,
     "metadata": {},
     "output_type": "execute_result"
    }
   ],
   "source": [
    "# This will multiply 3 by 4 and then add 5\n",
    "(3 * 4) + 5\n"
   ]
  },
  {
   "cell_type": "code",
   "execution_count": 5,
   "id": "55a9d25a-b1ba-417c-a31a-9d179ca26f60",
   "metadata": {},
   "outputs": [
    {
     "data": {
      "text/plain": [
       "3.3333333333333335"
      ]
     },
     "execution_count": 5,
     "metadata": {},
     "output_type": "execute_result"
    }
   ],
   "source": [
    "# Convert 200 minutes to hours\n",
    "minutes = 200\n",
    "hours = minutes / 60\n",
    "hours\n"
   ]
  },
  {
   "cell_type": "markdown",
   "id": "65ba9d42-8020-4368-9584-002e478fc447",
   "metadata": {},
   "source": [
    "## Objectives\n",
    "\n",
    "- List popular languages for Data Science\n",
    "- List commonly used libraries\n",
    "- Show examples of arithmetic expressions\n",
    "- Convert units using Python code\n",
    "- Create tables using markdown\n"
   ]
  },
  {
   "cell_type": "markdown",
   "id": "a0c903d8-ac63-4a25-8c1d-a4024cd50beb",
   "metadata": {},
   "source": [
    "## Author\n",
    "\n",
    "Raamiz"
   ]
  },
  {
   "cell_type": "code",
   "execution_count": null,
   "id": "470c2e24-d5b1-41fe-af05-ff3b666c0c69",
   "metadata": {},
   "outputs": [],
   "source": []
  }
 ],
 "metadata": {
  "kernelspec": {
   "display_name": "Python 3 (ipykernel)",
   "language": "python",
   "name": "python3"
  },
  "language_info": {
   "codemirror_mode": {
    "name": "ipython",
    "version": 3
   },
   "file_extension": ".py",
   "mimetype": "text/x-python",
   "name": "python",
   "nbconvert_exporter": "python",
   "pygments_lexer": "ipython3",
   "version": "3.9.1rc1"
  }
 },
 "nbformat": 4,
 "nbformat_minor": 5
}
